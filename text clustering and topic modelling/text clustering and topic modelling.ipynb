{
 "cells": [
  {
   "cell_type": "markdown",
   "metadata": {},
   "source": [
    "# L3: Text clustering and topic modelling"
   ]
  },
  {
   "cell_type": "markdown",
   "metadata": {},
   "source": [
    "Text clustering groups documents in such a way that documents within a group are more &lsquo;similar&rsquo; to other documents in the cluster than to documents not in the cluster. The exact definition of what &lsquo;similar&rsquo; means in this context varies across applications and clustering algorithms.\n",
    "\n",
    "In this lab you will experiment with both hard and soft clustering techniques. More specifically, in the first part you will be using the $k$-means algorithm, and in the second part you will be using a topic model based on the Latent Dirichlet Allocation (LDA)."
   ]
  },
  {
   "cell_type": "markdown",
   "metadata": {},
   "source": [
    "## Hard clustering data set"
   ]
  },
  {
   "cell_type": "markdown",
   "metadata": {},
   "source": [
    "The raw data for the hard clustering part of this lab is a collection of product reviews. We have preprocessed the data by tokenization and lowercasing."
   ]
  },
  {
   "cell_type": "code",
   "execution_count": 1,
   "metadata": {},
   "outputs": [],
   "source": [
    "import pandas as pd\n",
    "import bz2\n",
    "import numpy as np\n",
    "with bz2.open('reviews.json.bz2') as source:\n",
    "    df = pd.read_json(source)"
   ]
  },
  {
   "cell_type": "markdown",
   "metadata": {},
   "source": [
    "When you inspect the data frame, you can see that there are three labelled columns: `category` (the product category), `sentiment` (whether the product review was classified as &lsquo;positive&rsquo; or &lsquo;negative&rsquo; towards the product), and `text` (the space-separated text of the review)."
   ]
  },
  {
   "cell_type": "code",
   "execution_count": 2,
   "metadata": {
    "scrolled": true
   },
   "outputs": [
    {
     "data": {
      "text/html": [
       "<div>\n",
       "<style scoped>\n",
       "    .dataframe tbody tr th:only-of-type {\n",
       "        vertical-align: middle;\n",
       "    }\n",
       "\n",
       "    .dataframe tbody tr th {\n",
       "        vertical-align: top;\n",
       "    }\n",
       "\n",
       "    .dataframe thead th {\n",
       "        text-align: right;\n",
       "    }\n",
       "</style>\n",
       "<table border=\"1\" class=\"dataframe\">\n",
       "  <thead>\n",
       "    <tr style=\"text-align: right;\">\n",
       "      <th></th>\n",
       "      <th>category</th>\n",
       "      <th>sentiment</th>\n",
       "      <th>text</th>\n",
       "    </tr>\n",
       "  </thead>\n",
       "  <tbody>\n",
       "    <tr>\n",
       "      <th>0</th>\n",
       "      <td>music</td>\n",
       "      <td>neg</td>\n",
       "      <td>i bought this album because i loved the title ...</td>\n",
       "    </tr>\n",
       "    <tr>\n",
       "      <th>1</th>\n",
       "      <td>music</td>\n",
       "      <td>neg</td>\n",
       "      <td>i was misled and thought i was buying the enti...</td>\n",
       "    </tr>\n",
       "    <tr>\n",
       "      <th>2</th>\n",
       "      <td>books</td>\n",
       "      <td>neg</td>\n",
       "      <td>i have introduced many of my ell , high school...</td>\n",
       "    </tr>\n",
       "    <tr>\n",
       "      <th>3</th>\n",
       "      <td>books</td>\n",
       "      <td>pos</td>\n",
       "      <td>anything you purchase in the left behind serie...</td>\n",
       "    </tr>\n",
       "    <tr>\n",
       "      <th>4</th>\n",
       "      <td>dvd</td>\n",
       "      <td>pos</td>\n",
       "      <td>i loved these movies , and i cant wiat for the...</td>\n",
       "    </tr>\n",
       "  </tbody>\n",
       "</table>\n",
       "</div>"
      ],
      "text/plain": [
       "  category sentiment                                               text\n",
       "0    music       neg  i bought this album because i loved the title ...\n",
       "1    music       neg  i was misled and thought i was buying the enti...\n",
       "2    books       neg  i have introduced many of my ell , high school...\n",
       "3    books       pos  anything you purchase in the left behind serie...\n",
       "4      dvd       pos  i loved these movies , and i cant wiat for the..."
      ]
     },
     "execution_count": 2,
     "metadata": {},
     "output_type": "execute_result"
    }
   ],
   "source": [
    "df.head()"
   ]
  },
  {
   "cell_type": "markdown",
   "metadata": {},
   "source": [
    "## Problem 1: K-means clustering"
   ]
  },
  {
   "cell_type": "markdown",
   "metadata": {},
   "source": [
    "Your first task is to cluster the product review data using a tf–idf vectorizer and a $k$-means clusterer."
   ]
  },
  {
   "cell_type": "markdown",
   "metadata": {},
   "source": [
    "Start by doing the vectorization. In connection with vectorization, you should also filter out standard English stop words. While you could use [spaCy](https://spacy.io/) for this task, here it suffices to use the word list implemented in [TfidfVectorizer](https://scikit-learn.org/stable/modules/generated/sklearn.feature_extraction.text.TfidfVectorizer.html)."
   ]
  },
  {
   "cell_type": "code",
   "execution_count": 3,
   "metadata": {},
   "outputs": [],
   "source": [
    "# TODO: Enter code here to vectorize the data and store it in a variable `reviews`\n",
    "from sklearn.feature_extraction.text import TfidfVectorizer\n",
    "vect = TfidfVectorizer(stop_words='english')\n",
    "reviews = vect.fit_transform(df[\"text\"])\n",
    "\n",
    "\n",
    "\n",
    "\n",
    "\n"
   ]
  },
  {
   "cell_type": "markdown",
   "metadata": {},
   "source": [
    "Test your vectorization by running the following code cell:"
   ]
  },
  {
   "cell_type": "code",
   "execution_count": 4,
   "metadata": {},
   "outputs": [
    {
     "data": {
      "text/plain": [
       "(11914, 46619)"
      ]
     },
     "execution_count": 4,
     "metadata": {},
     "output_type": "execute_result"
    }
   ],
   "source": [
    "reviews.shape"
   ]
  },
  {
   "cell_type": "markdown",
   "metadata": {},
   "source": [
    "If you used the English stop word list from scikit-learn, then the resulting vocabulary should have 46,619 entries."
   ]
  },
  {
   "cell_type": "markdown",
   "metadata": {},
   "source": [
    "Next, cluster the vectorized data. Before doing so, you should read the documentation of the [KMeans](https://scikit-learn.org/stable/modules/generated/sklearn.cluster.KMeans.html) class, which is scikit-learn&rsquo;s implementation of the $k$-means algorithm. As you can see, this class has several parameters that you can tweak. For now, the only parameter that you will have to set is the number of clusters. We recommend that you choose $k=3$.\n",
    "\n",
    "**Tip:** Training $k$-means models will take some time. To speed things up, you can use the `n_init` parameter to control the number of times that the clustering is re-computed with different initial values. The default value for this parameter is 10; here and in the rest of this lab, you may want to set this to a lower value."
   ]
  },
  {
   "cell_type": "code",
   "execution_count": 5,
   "metadata": {},
   "outputs": [],
   "source": [
    "# TODO: Enter code here to cluster the vectorized data\n",
    "from sklearn.cluster import KMeans\n",
    "\n",
    "k3mean = KMeans(n_clusters=3, random_state=2, n_init=2).fit(reviews)"
   ]
  },
  {
   "cell_type": "markdown",
   "metadata": {},
   "source": [
    "To sanity-check your clustering, create a bar plot with the number of documents per cluster."
   ]
  },
  {
   "cell_type": "code",
   "execution_count": 6,
   "metadata": {},
   "outputs": [
    {
     "data": {
      "image/png": "[encoded data removed]",
      "text/plain": [
       "<Figure size 432x288 with 1 Axes>"
      ]
     },
     "metadata": {
      "needs_background": "light"
     },
     "output_type": "display_data"
    }
   ],
   "source": [
    "# TODO: Enter code here to produce a bar plot of the cluster size\n",
    "import matplotlib.pyplot as plt\n",
    "\n",
    "k0 = sum(k3mean.labels_ == 0)\n",
    "k1 = sum(k3mean.labels_ == 1)\n",
    "k2 = sum(k3mean.labels_ == 2)\n",
    "fig = plt.figure()\n",
    "ax = fig.add_axes([0,0,1,1])\n",
    "label = ['0', '1', '2']\n",
    "count = [k0,k1,k2]\n",
    "ax.bar(label,count)\n",
    "plt.show()\n"
   ]
  },
  {
   "cell_type": "markdown",
   "metadata": {},
   "source": [
    "Note that sizes may vary considerable between clusters and among different random seeds."
   ]
  },
  {
   "cell_type": "markdown",
   "metadata": {},
   "source": [
    "## Problem 2: Summarize clusters"
   ]
  },
  {
   "cell_type": "markdown",
   "metadata": {},
   "source": [
    "Once you have a clustering, you can try to see whether it is meaningful. One useful technique in that context is to generate a **summary** for each cluster by extracting the $n$ highest-weighted terms from the centroid of each cluster. Your next task is to implement this approach.\n",
    "\n",
    "**Hint:** You will need to construct an &lsquo;inverted vocabulary&rsquo; that allows you to map from the index of a term back to the original term."
   ]
  },
  {
   "cell_type": "markdown",
   "metadata": {},
   "source": [
    "Cluster 0 is review about some book.\n",
    "Cluster 1 is maybe abput the reviews on music.\n",
    "Cluster 3 is reviews about some camera and light equiments."
   ]
  },
  {
   "cell_type": "markdown",
   "metadata": {},
   "source": [
    "Once you have computed the cluster summaries, discuss their quality. Is it clear what the reviews in a given cluster are about? Which clusters are clearest? Which are less clear? Do the cluster summaries contain any unexpected terms? What happens if you re-cluster with, say, $k=6$?"
   ]
  },
  {
   "cell_type": "markdown",
   "metadata": {},
   "source": [
    "*TODO: Insert your analysis of the clusters here*"
   ]
  },
  {
   "cell_type": "code",
   "execution_count": 7,
   "metadata": {
    "scrolled": false
   },
   "outputs": [
    {
     "data": {
      "image/png": "[encoded data removed]",
      "text/plain": [
       "<Figure size 432x288 with 1 Axes>"
      ]
     },
     "metadata": {
      "needs_background": "light"
     },
     "output_type": "display_data"
    }
   ],
   "source": [
    "k3mean = KMeans(n_clusters=6, random_state=2, n_init=2).fit(reviews)\n",
    "\n",
    "k0 = sum(k3mean.labels_ == 0)\n",
    "k1 = sum(k3mean.labels_ == 1)\n",
    "k2 = sum(k3mean.labels_ == 2)\n",
    "k3 = sum(k3mean.labels_ == 3)\n",
    "k4 = sum(k3mean.labels_ == 4)\n",
    "k5 = sum(k3mean.labels_ == 5)\n",
    "fig = plt.figure()\n",
    "ax = fig.add_axes([0,0,1,1])\n",
    "label = ['0', '1', '2','3','4','5']\n",
    "count = [k0,k1,k2,k3,k4,k5]\n",
    "ax.bar(label,count)\n",
    "plt.show()"
   ]
  },
  {
   "cell_type": "code",
   "execution_count": 8,
   "metadata": {
    "scrolled": true
   },
   "outputs": [
    {
     "name": "stdout",
     "output_type": "stream",
     "text": [
      "\n",
      " cluster 0  is  ['movie' 'film' 'like' 'great' 'good' 'just' 'dvd' 'time' 'did' 'really'\n",
      " 'does' 'use' 'love' 'better' 'work' 'best' 'buy' 'story' 'bought'\n",
      " 'people']\n",
      "\n",
      " cluster 1  is  ['product' 'hair' 'use' 'razor' 'shave' 'great' 'used' 'shaver' 'does'\n",
      " 'easy' 'good' 'price' 'skin' 'bought' 'just' 'works' 'buy' 'time' 'work'\n",
      " 'did']\n",
      "\n",
      " cluster 2  is  ['software' 'program' 'version' 'computer' 'use' 'support' 'windows'\n",
      " 'product' 'microsoft' 'office' 'easy' 'used' 'does' 'new' 'work'\n",
      " 'upgrade' 'norton' 'install' 'xp' 'time']\n",
      "\n",
      " cluster 3  is  ['book' 'read' 'books' 'author' 'reading' 'story' 'like' 'just' 'quot'\n",
      " 'written' 'did' 'good' 'great' 'really' 'people' 'life' 'writing'\n",
      " 'characters' 'time' 'information']\n",
      "\n",
      " cluster 4  is  ['album' 'cd' 'music' 'songs' 'quot' 'song' 'like' 'just' 'great' 'good'\n",
      " 'band' 'listen' 'sound' 'love' 'albums' 'best' 'rock' 'tracks' 'really'\n",
      " 'track']\n",
      "\n",
      " cluster 5  is  ['camera' 'lens' 'pictures' 'canon' 'digital' 'use' 'flash' 'battery'\n",
      " 'quality' 'great' 'case' 'good' 'cameras' 'picture' 'sony' 'zoom'\n",
      " 'bought' 'just' 'light' 'shots']\n"
     ]
    }
   ],
   "source": [
    "ids = k3mean.cluster_centers_.argsort()\n",
    "top = np.flip(ids, axis = 1)\n",
    "cluster = np.empty((6,20), dtype = object)\n",
    "words = vect.get_feature_names()\n",
    "for i in range(6):\n",
    "    top_20 = top[i,:20]\n",
    "    for j in range(20):\n",
    "        cluster[i,j] = words[top_20[j]]\n",
    "    \n",
    "\n",
    "for i in range(6):\n",
    "    print(\"\\n cluster\",i,\" is \",cluster[i])\n",
    "\n",
    "    "
   ]
  },
  {
   "cell_type": "markdown",
   "metadata": {},
   "source": [
    "## Problem 3: Compare clusterings using the Rand index"
   ]
  },
  {
   "cell_type": "markdown",
   "metadata": {},
   "source": [
    "In some scenarios, you may have gold-standard class labels available for at least a subset of your documents. In these cases you can compute the **Rand index** of a clustering, and use this measure to compare the quality of different clusterings.\n",
    "\n",
    "To compute the Rand index, we view a clustering as a binary classifier on (unordered) pairs of documents. The classifier predicts &lsquo;positive&rsquo; if and only if the two documents belong to the same cluster. The (non-normalized) Rand index of the clustering is the accuracy of this classifier relative to a reference in which a document pair belongs to the &lsquo;positive&rsquo; class if and only if the two documents in the pair have the same gold-standard class label.\n",
    "\n",
    "Compare clusterings with $k \\in \\{1,3,5,7\\}$ clusters. As your evaluation data, use the first 500 documents from the original data set along with their gold-standard categories (from the `category` column). What do you observe? How do you interpret your observations?"
   ]
  },
  {
   "cell_type": "code",
   "execution_count": 9,
   "metadata": {},
   "outputs": [
    {
     "name": "stdout",
     "output_type": "stream",
     "text": [
      "1 : 0.0\n",
      "3 : 0.14217793785179422\n",
      "5 : 0.271507375462011\n",
      "7 : 0.3010313686526892\n"
     ]
    }
   ],
   "source": [
    "# TODO: Enter code here to compute the Rand indices for the two clusterings\n",
    "from sklearn.metrics import adjusted_rand_score\n",
    "for i in [1,3,5,7]:\n",
    "    globals()['kmeans%s' % i] = KMeans(n_clusters=i, random_state=0, n_init=3).fit(reviews)\n",
    "    pred = globals()['kmeans%s' % i].predict(reviews)\n",
    "    globals()['rand_index%s' % i] = adjusted_rand_score(df['category'][0:500], labels_pred = pred[0:500])\n",
    "    print(i , \":\", globals()['rand_index%s' % i])\n",
    "    \n",
    "   "
   ]
  },
  {
   "cell_type": "markdown",
   "metadata": {},
   "source": [
    "*TODO: Insert your discussion of your results here*\n",
    "\n",
    "We have highest adjusted rand index when k is 7"
   ]
  },
  {
   "cell_type": "markdown",
   "metadata": {},
   "source": [
    "## Topic modelling data set"
   ]
  },
  {
   "cell_type": "markdown",
   "metadata": {},
   "source": [
    "The data set for the topic modelling part of this lab is the collection of all [State of the Union](https://en.wikipedia.org/wiki/State_of_the_Union) addresses from the years 1975–2000. These speeches come as a single text file with one sentence per line. The following code cell prints the first 5 lines from the data file:"
   ]
  },
  {
   "cell_type": "code",
   "execution_count": 10,
   "metadata": {},
   "outputs": [
    {
     "name": "stdout",
     "output_type": "stream",
     "text": [
      "mr speaker mr vice president members of the 94th congress and distinguished guests\n",
      "twenty six years ago a freshman congressman a young fellow with lots of idealism who was out to change the world stood before sam rayburn in the well of the house and solemnly swore to the same oath that all of you took yesterday an unforgettable experience and i congratulate you all\n",
      "two days later that same freshman stood at the back of this great chamber over there someplace as president truman all charged up by his single handed election victory reported as the constitution requires on the state of the union\n",
      "when the bipartisan applause stopped president truman said i am happy to report to this 81st congress that the state of the union is good our nation is better able than ever before to meet the needs of the american people and to give them their fair chance in the pursuit of happiness it is foremost among the nations of the world in the search for peace\n",
      "today that freshman member from michigan stands where mr truman stood and i must say to you that the state of the union is not good\n",
      "millions of americans are out of work\n"
     ]
    }
   ],
   "source": [
    "with open('sotu_1975_2000.txt') as source:\n",
    "    for i, line in enumerate(source):\n",
    "        print(line.rstrip())\n",
    "        if i >= 5:\n",
    "            break"
   ]
  },
  {
   "cell_type": "markdown",
   "metadata": {},
   "source": [
    "Take a few minutes to think about what topics you would expect in this data set."
   ]
  },
  {
   "cell_type": "markdown",
   "metadata": {},
   "source": [
    "## Problem 4: Train a topic model"
   ]
  },
  {
   "cell_type": "markdown",
   "metadata": {},
   "source": [
    "Your first task on the topic modelling data is to train an LDA model. For this task you will be using [spaCy](https://spacy.io/) and the [gensim](https://radimrehurek.com/gensim/) topic modelling library.\n",
    "\n",
    "Start by preprocessing the data using spaCy. Given that the data set for this problem is rather small, you do not have to exclude any components from the standard pipeline. Filter out stop words, non-alphabetic tokens, and tokens less than 3 characters in length. Store the documents as a nested list where the first level of nesting corresponds to the sentences and the second level corresponds to the tokens in each sentence."
   ]
  },
  {
   "cell_type": "code",
   "execution_count": 11,
   "metadata": {
    "scrolled": false
   },
   "outputs": [
    {
     "data": {
      "text/plain": [
       "['reduce',\n",
       " 'oil',\n",
       " 'imports',\n",
       " 'million',\n",
       " 'barrels',\n",
       " 'day',\n",
       " 'end',\n",
       " 'year',\n",
       " 'million',\n",
       " 'barrels',\n",
       " 'day',\n",
       " 'end']"
      ]
     },
     "execution_count": 11,
     "metadata": {},
     "output_type": "execute_result"
    }
   ],
   "source": [
    "# TODO: Replace the following lines with your own code for preprocessing the documents\n",
    "import spacy\n",
    "nlp = spacy.load(\"en_core_web_sm\")\n",
    "def preprocessing(line):\n",
    "    doc = nlp(line)\n",
    "    preprocessed = [token.text for token in doc if token.text.isalpha() and not len(token.text)<3 and not token.is_stop]\n",
    "    return(preprocessed)\n",
    "\n",
    "with open('sotu_1975_2000.txt') as source:\n",
    "    documents = [preprocessing(line) for line in source]\n",
    "    \n",
    "documents[42]"
   ]
  },
  {
   "cell_type": "code",
   "execution_count": 12,
   "metadata": {},
   "outputs": [
    {
     "data": {
      "text/plain": [
       "'reduce oil imports million barrels day end year million barrels day end'"
      ]
     },
     "execution_count": 12,
     "metadata": {},
     "output_type": "execute_result"
    }
   ],
   "source": [
    "' '.join(documents[42])"
   ]
  },
  {
   "cell_type": "markdown",
   "metadata": {},
   "source": [
    "You should get the following output:"
   ]
  },
  {
   "cell_type": "raw",
   "metadata": {},
   "source": [
    "'reduce oil imports million barrels day end year million barrels day end'"
   ]
  },
  {
   "cell_type": "markdown",
   "metadata": {},
   "source": [
    "Once you have the list of documents, skim the section [Pre-process and vectorize the documents](https://radimrehurek.com/gensim/auto_examples/tutorials/run_lda.html#pre-process-and-vectorize-the-documents) of the gensim documentation to learn how to create the dictionary and the vectorized corpus representation required by gensim. (Note that you cannot use the standard scikit-learn pipeline in this case.) Then, write code to train an [LdaModel](https://radimrehurek.com/gensim/models/ldamodel.html) for $k=10$ topics, and using default values for all other parameters."
   ]
  },
  {
   "cell_type": "code",
   "execution_count": 13,
   "metadata": {
    "scrolled": true
   },
   "outputs": [
    {
     "name": "stderr",
     "output_type": "stream",
     "text": [
      "[nltk_data] Downloading package wordnet to\n",
      "[nltk_data]     C:\\Users\\vcshw\\AppData\\Roaming\\nltk_data...\n",
      "[nltk_data]   Package wordnet is already up-to-date!\n"
     ]
    }
   ],
   "source": [
    "# TODO: Enter code here to train an LDA model and store it in a variable `model`\n",
    "from gensim.models import LdaModel\n",
    "\n",
    "import nltk\n",
    "nltk.download('wordnet')\n",
    "\n",
    "from nltk.stem.wordnet import WordNetLemmatizer\n",
    "\n",
    "lemmatizer = WordNetLemmatizer()\n",
    "docs = [[lemmatizer.lemmatize(token) for token in doc] for doc in documents]\n",
    "\n",
    "# Remove rare and common tokens\n",
    "\n",
    "from gensim.corpora import Dictionary\n",
    "\n",
    "# Create a dictionary representation of the documents.\n",
    "dictionary = Dictionary(docs)\n",
    "\n",
    "# Filter out words that occur less than 20 documents, or more than 50% of the documents.\n",
    "dictionary.filter_extremes(no_below=20, no_above=0.5)\n",
    "\n",
    "# Bag-of-words representation of the documents.\n",
    "corpus = [dictionary.doc2bow(doc) for doc in docs]\n",
    "\n",
    "\n",
    "# Make a index to word dictionary.\n",
    "temp = dictionary[0]  # This is only to \"load\" the dictionary.\n",
    "id2word = dictionary.id2token\n",
    "\n",
    "model = LdaModel(corpus=corpus, id2word=id2word, num_topics=10)\n",
    "\n",
    "#refered from https://radimrehurek.com/gensim/auto_examples/tutorials/run_lda.html#pre-process-and-vectorize-the-documents\n"
   ]
  },
  {
   "cell_type": "markdown",
   "metadata": {},
   "source": [
    "Once you have a trained model, run the following cell to print the topics:"
   ]
  },
  {
   "cell_type": "code",
   "execution_count": 14,
   "metadata": {
    "scrolled": false
   },
   "outputs": [
    {
     "data": {
      "text/plain": [
       "[(0,\n",
       "  '0.041*\"american\" + 0.028*\"child\" + 0.023*\"year\" + 0.021*\"care\" + 0.017*\"parent\" + 0.014*\"people\" + 0.014*\"health\" + 0.014*\"need\" + 0.013*\"right\" + 0.012*\"new\"'),\n",
       " (1,\n",
       "  '0.024*\"security\" + 0.020*\"year\" + 0.019*\"american\" + 0.018*\"social\" + 0.018*\"people\" + 0.012*\"america\" + 0.011*\"budget\" + 0.011*\"know\" + 0.011*\"bipartisan\" + 0.010*\"country\"'),\n",
       " (2,\n",
       "  '0.025*\"america\" + 0.018*\"let\" + 0.018*\"family\" + 0.015*\"world\" + 0.015*\"year\" + 0.014*\"health\" + 0.013*\"american\" + 0.012*\"care\" + 0.011*\"child\" + 0.011*\"work\"'),\n",
       " (3,\n",
       "  '0.025*\"american\" + 0.020*\"new\" + 0.018*\"year\" + 0.018*\"america\" + 0.018*\"congress\" + 0.014*\"people\" + 0.013*\"community\" + 0.010*\"know\" + 0.010*\"crime\" + 0.009*\"ask\"'),\n",
       " (4,\n",
       "  '0.026*\"year\" + 0.020*\"people\" + 0.017*\"american\" + 0.015*\"family\" + 0.014*\"tax\" + 0.013*\"time\" + 0.012*\"work\" + 0.012*\"cut\" + 0.011*\"college\" + 0.010*\"let\"'),\n",
       " (5,\n",
       "  '0.030*\"year\" + 0.020*\"tax\" + 0.015*\"child\" + 0.014*\"program\" + 0.013*\"budget\" + 0.013*\"new\" + 0.012*\"community\" + 0.010*\"congress\" + 0.009*\"people\" + 0.009*\"bill\"'),\n",
       " (6,\n",
       "  '0.033*\"year\" + 0.019*\"new\" + 0.017*\"america\" + 0.016*\"child\" + 0.012*\"american\" + 0.012*\"million\" + 0.011*\"government\" + 0.010*\"need\" + 0.009*\"economy\" + 0.009*\"world\"'),\n",
       " (7,\n",
       "  '0.031*\"year\" + 0.029*\"school\" + 0.020*\"congress\" + 0.016*\"america\" + 0.012*\"nation\" + 0.011*\"community\" + 0.011*\"day\" + 0.011*\"help\" + 0.011*\"work\" + 0.010*\"ask\"'),\n",
       " (8,\n",
       "  '0.027*\"state\" + 0.026*\"nation\" + 0.021*\"people\" + 0.020*\"world\" + 0.020*\"government\" + 0.016*\"america\" + 0.015*\"community\" + 0.013*\"new\" + 0.013*\"united\" + 0.012*\"time\"'),\n",
       " (9,\n",
       "  '0.027*\"work\" + 0.025*\"new\" + 0.023*\"child\" + 0.019*\"america\" + 0.018*\"welfare\" + 0.016*\"people\" + 0.013*\"century\" + 0.012*\"american\" + 0.011*\"help\" + 0.011*\"government\"')]"
      ]
     },
     "execution_count": 14,
     "metadata": {},
     "output_type": "execute_result"
    }
   ],
   "source": [
    "model.print_topics()"
   ]
  },
  {
   "cell_type": "markdown",
   "metadata": {},
   "source": [
    "Inspect the topics. Can you &lsquo;label&rsquo; each topic with a short description of what it is about? Do the topics match your expectations? Summarize your discussion in a short text."
   ]
  },
  {
   "cell_type": "markdown",
   "metadata": {},
   "source": [
    "*TODO: Insert your discussion of the topics here*"
   ]
  },
  {
   "cell_type": "markdown",
   "metadata": {},
   "source": [
    "## Problem 5: Monitor a topic model for convergence"
   ]
  },
  {
   "cell_type": "markdown",
   "metadata": {},
   "source": [
    "When learning an LDA model, it is important to make sure that the training algorithm has converged to a stable posterior distribution. One way to do so is to plot, after each training epochs (or &lsquo;pass&rsquo;, in gensim parlance) the log likelihood of the training data under the posterior. Your last task in this lab is to create such a plot and, based on this, to suggest an appropriate number of epochs.\n",
    "\n",
    "To collect information about the posterior likelihood after each pass, we need to enable the logging facilities of gensim. Once this is done, gensim will add various diagnostics to a log file `gensim.log`."
   ]
  },
  {
   "cell_type": "code",
   "execution_count": 15,
   "metadata": {},
   "outputs": [],
   "source": [
    "import logging\n",
    "\n",
    "logging.basicConfig(filename='gensim.log', format='%(asctime)s:%(levelname)s:%(message)s', level=logging.INFO)"
   ]
  },
  {
   "cell_type": "markdown",
   "metadata": {},
   "source": [
    "The following function will parse the generated logfile and return the list of log likelihoods."
   ]
  },
  {
   "cell_type": "code",
   "execution_count": 16,
   "metadata": {},
   "outputs": [],
   "source": [
    "import re\n",
    "\n",
    "def parse_logfile():\n",
    "    matcher = re.compile('(-*\\d+\\.\\d+) per-word .* (\\d+\\.\\d+) perplexity')\n",
    "    likelihoods = []\n",
    "    with open('gensim.log') as source:\n",
    "        for line in source:\n",
    "            match = matcher.search(line)\n",
    "            if match:\n",
    "                likelihoods.append(float(match.group(1)))\n",
    "    return likelihoods"
   ]
  },
  {
   "cell_type": "markdown",
   "metadata": {},
   "source": [
    "Your task now is to re-train your LDA model for 50&nbsp;passes, retrieve the list of log likelihoods, and create a plot from this data."
   ]
  },
  {
   "cell_type": "code",
   "execution_count": 17,
   "metadata": {},
   "outputs": [
    {
     "data": {
      "text/plain": [
       "[(0,\n",
       "  '0.029*\"world\" + 0.023*\"america\" + 0.020*\"american\" + 0.020*\"year\" + 0.015*\"new\" + 0.013*\"nation\" + 0.012*\"economy\" + 0.011*\"family\" + 0.010*\"time\" + 0.010*\"home\"'),\n",
       " (1,\n",
       "  '0.032*\"american\" + 0.024*\"new\" + 0.016*\"people\" + 0.016*\"job\" + 0.016*\"america\" + 0.016*\"year\" + 0.014*\"work\" + 0.012*\"country\" + 0.011*\"worker\" + 0.011*\"need\"'),\n",
       " (2,\n",
       "  '0.030*\"year\" + 0.017*\"america\" + 0.014*\"congress\" + 0.014*\"school\" + 0.013*\"new\" + 0.013*\"work\" + 0.012*\"child\" + 0.012*\"people\" + 0.011*\"ask\" + 0.011*\"tonight\"'),\n",
       " (3,\n",
       "  '0.037*\"year\" + 0.032*\"american\" + 0.018*\"people\" + 0.017*\"congress\" + 0.015*\"work\" + 0.013*\"way\" + 0.012*\"let\" + 0.011*\"state\" + 0.011*\"security\" + 0.010*\"peace\"'),\n",
       " (4,\n",
       "  '0.028*\"crime\" + 0.027*\"year\" + 0.023*\"tax\" + 0.018*\"cut\" + 0.017*\"drug\" + 0.015*\"thank\" + 0.014*\"time\" + 0.013*\"college\" + 0.011*\"america\" + 0.011*\"people\"'),\n",
       " (5,\n",
       "  '0.024*\"middle\" + 0.016*\"east\" + 0.013*\"congress\" + 0.013*\"fellow\" + 0.012*\"government\" + 0.012*\"peace\" + 0.012*\"new\" + 0.012*\"american\" + 0.011*\"member\" + 0.011*\"president\"'),\n",
       " (6,\n",
       "  '0.038*\"child\" + 0.029*\"people\" + 0.023*\"work\" + 0.021*\"care\" + 0.019*\"american\" + 0.018*\"welfare\" + 0.018*\"health\" + 0.014*\"family\" + 0.014*\"know\" + 0.013*\"million\"'),\n",
       " (7,\n",
       "  '0.022*\"america\" + 0.021*\"new\" + 0.021*\"community\" + 0.021*\"year\" + 0.018*\"budget\" + 0.013*\"cut\" + 0.013*\"people\" + 0.010*\"tax\" + 0.010*\"national\" + 0.009*\"american\"'),\n",
       " (8,\n",
       "  '0.025*\"school\" + 0.023*\"year\" + 0.017*\"child\" + 0.016*\"new\" + 0.016*\"state\" + 0.014*\"teacher\" + 0.014*\"parent\" + 0.013*\"nation\" + 0.013*\"world\" + 0.012*\"woman\"'),\n",
       " (9,\n",
       "  '0.020*\"help\" + 0.019*\"year\" + 0.015*\"time\" + 0.014*\"new\" + 0.014*\"government\" + 0.011*\"program\" + 0.010*\"security\" + 0.009*\"america\" + 0.009*\"space\" + 0.008*\"right\"')]"
      ]
     },
     "execution_count": 17,
     "metadata": {},
     "output_type": "execute_result"
    }
   ],
   "source": [
    "model = LdaModel(corpus=corpus, id2word=id2word, num_topics=10, passes=1, eval_every=None, iterations=400)\n",
    "model.print_topics()"
   ]
  },
  {
   "cell_type": "code",
   "execution_count": 18,
   "metadata": {},
   "outputs": [],
   "source": [
    "# TODO: Enter code here to generate the convergence plot\n",
    "model = LdaModel(corpus=corpus, id2word=id2word, num_topics=10, passes=50, eval_every=None, iterations=400)"
   ]
  },
  {
   "cell_type": "code",
   "execution_count": 19,
   "metadata": {
    "scrolled": false
   },
   "outputs": [
    {
     "data": {
      "text/plain": [
       "[<matplotlib.lines.Line2D at 0x20faf26edc0>]"
      ]
     },
     "execution_count": 19,
     "metadata": {},
     "output_type": "execute_result"
    },
    {
     "data": {
      "image/png": "[encoded data removed]",
      "text/plain": [
       "<Figure size 432x288 with 1 Axes>"
      ]
     },
     "metadata": {
      "needs_background": "light"
     },
     "output_type": "display_data"
    }
   ],
   "source": [
    "logliklihood = parse_logfile()\n",
    "plt.plot(logliklihood)"
   ]
  },
  {
   "cell_type": "code",
   "execution_count": 20,
   "metadata": {
    "scrolled": true
   },
   "outputs": [
    {
     "data": {
      "text/plain": [
       "[(0,\n",
       "  '0.070*\"tax\" + 0.028*\"cut\" + 0.024*\"new\" + 0.020*\"business\" + 0.020*\"plan\" + 0.020*\"help\" + 0.018*\"drug\" + 0.017*\"rate\" + 0.017*\"job\" + 0.016*\"private\"'),\n",
       " (1,\n",
       "  '0.052*\"year\" + 0.041*\"budget\" + 0.037*\"government\" + 0.035*\"federal\" + 0.026*\"program\" + 0.024*\"social\" + 0.024*\"security\" + 0.022*\"billion\" + 0.021*\"spending\" + 0.020*\"percent\"'),\n",
       " (2,\n",
       "  '0.038*\"right\" + 0.023*\"human\" + 0.022*\"american\" + 0.019*\"nation\" + 0.014*\"support\" + 0.014*\"country\" + 0.013*\"reform\" + 0.013*\"people\" + 0.013*\"value\" + 0.012*\"let\"'),\n",
       " (3,\n",
       "  '0.046*\"economy\" + 0.036*\"new\" + 0.034*\"economic\" + 0.030*\"trade\" + 0.021*\"technology\" + 0.021*\"growth\" + 0.019*\"world\" + 0.018*\"market\" + 0.017*\"year\" + 0.017*\"global\"'),\n",
       " (4,\n",
       "  '0.042*\"work\" + 0.039*\"care\" + 0.039*\"child\" + 0.038*\"family\" + 0.037*\"health\" + 0.029*\"american\" + 0.029*\"welfare\" + 0.026*\"people\" + 0.023*\"million\" + 0.020*\"year\"'),\n",
       " (5,\n",
       "  '0.042*\"year\" + 0.035*\"america\" + 0.030*\"american\" + 0.026*\"tonight\" + 0.023*\"state\" + 0.020*\"new\" + 0.019*\"century\" + 0.017*\"union\" + 0.017*\"people\" + 0.016*\"world\"'),\n",
       " (6,\n",
       "  '0.045*\"child\" + 0.040*\"school\" + 0.026*\"community\" + 0.022*\"know\" + 0.019*\"let\" + 0.019*\"crime\" + 0.017*\"help\" + 0.017*\"people\" + 0.017*\"parent\" + 0.016*\"year\"'),\n",
       " (7,\n",
       "  '0.049*\"america\" + 0.038*\"american\" + 0.038*\"people\" + 0.029*\"world\" + 0.022*\"time\" + 0.018*\"freedom\" + 0.018*\"day\" + 0.018*\"government\" + 0.016*\"nation\" + 0.015*\"opportunity\"'),\n",
       " (8,\n",
       "  '0.026*\"program\" + 0.025*\"energy\" + 0.024*\"policy\" + 0.023*\"congress\" + 0.021*\"administration\" + 0.016*\"new\" + 0.015*\"act\" + 0.012*\"federal\" + 0.012*\"legislation\" + 0.012*\"development\"'),\n",
       " (9,\n",
       "  '0.029*\"peace\" + 0.027*\"world\" + 0.026*\"nuclear\" + 0.024*\"nation\" + 0.024*\"soviet\" + 0.022*\"force\" + 0.019*\"security\" + 0.019*\"united\" + 0.019*\"war\" + 0.018*\"state\"')]"
      ]
     },
     "execution_count": 20,
     "metadata": {},
     "output_type": "execute_result"
    }
   ],
   "source": [
    "model.print_topics()"
   ]
  },
  {
   "cell_type": "code",
   "execution_count": 21,
   "metadata": {
    "scrolled": false
   },
   "outputs": [
    {
     "data": {
      "text/plain": [
       "[(0,\n",
       "  '0.046*\"congress\" + 0.040*\"american\" + 0.030*\"let\" + 0.029*\"college\" + 0.027*\"house\" + 0.027*\"know\" + 0.025*\"president\" + 0.019*\"member\" + 0.018*\"said\" + 0.017*\"tell\"'),\n",
       " (1,\n",
       "  '0.043*\"people\" + 0.029*\"crime\" + 0.028*\"american\" + 0.021*\"security\" + 0.019*\"social\" + 0.017*\"ask\" + 0.015*\"country\" + 0.014*\"year\" + 0.014*\"community\" + 0.014*\"new\"'),\n",
       " (2,\n",
       "  '0.031*\"new\" + 0.027*\"system\" + 0.025*\"technology\" + 0.023*\"land\" + 0.022*\"environment\" + 0.020*\"science\" + 0.019*\"national\" + 0.018*\"community\" + 0.017*\"space\" + 0.017*\"protect\"'),\n",
       " (3,\n",
       "  '0.045*\"america\" + 0.033*\"american\" + 0.030*\"century\" + 0.027*\"world\" + 0.020*\"new\" + 0.019*\"economy\" + 0.018*\"time\" + 0.016*\"opportunity\" + 0.015*\"trade\" + 0.014*\"today\"'),\n",
       " (4,\n",
       "  '0.043*\"work\" + 0.041*\"new\" + 0.038*\"government\" + 0.032*\"people\" + 0.031*\"welfare\" + 0.028*\"community\" + 0.026*\"job\" + 0.023*\"business\" + 0.021*\"american\" + 0.021*\"way\"'),\n",
       " (5,\n",
       "  '0.046*\"world\" + 0.036*\"peace\" + 0.034*\"nation\" + 0.027*\"america\" + 0.021*\"state\" + 0.018*\"united\" + 0.017*\"war\" + 0.016*\"freedom\" + 0.016*\"country\" + 0.014*\"democracy\"'),\n",
       " (6,\n",
       "  '0.033*\"nuclear\" + 0.031*\"energy\" + 0.025*\"force\" + 0.024*\"defense\" + 0.017*\"soviet\" + 0.017*\"military\" + 0.016*\"year\" + 0.016*\"nation\" + 0.014*\"agreement\" + 0.014*\"weapon\"'),\n",
       " (7,\n",
       "  '0.056*\"year\" + 0.041*\"tax\" + 0.039*\"health\" + 0.039*\"budget\" + 0.027*\"cut\" + 0.026*\"care\" + 0.023*\"people\" + 0.021*\"american\" + 0.019*\"family\" + 0.018*\"deficit\"'),\n",
       " (8,\n",
       "  '0.089*\"child\" + 0.047*\"school\" + 0.032*\"family\" + 0.029*\"parent\" + 0.023*\"year\" + 0.020*\"work\" + 0.019*\"education\" + 0.017*\"help\" + 0.016*\"woman\" + 0.015*\"teacher\"'),\n",
       " (9,\n",
       "  '0.030*\"program\" + 0.029*\"year\" + 0.029*\"federal\" + 0.021*\"congress\" + 0.017*\"government\" + 0.016*\"rate\" + 0.014*\"percent\" + 0.013*\"economic\" + 0.013*\"new\" + 0.012*\"billion\"')]"
      ]
     },
     "execution_count": 21,
     "metadata": {},
     "output_type": "execute_result"
    }
   ],
   "source": [
    "model = LdaModel(corpus=corpus, id2word=id2word, num_topics=10, passes=20, eval_every=None, iterations=400)\n",
    "model.print_topics()"
   ]
  },
  {
   "cell_type": "markdown",
   "metadata": {},
   "source": [
    "How do you interpret your plot? Based on the plot, what would be a reasonable choice for the number of passes? Retrain your LDA model with that number and re-inspect the topics it finds. Do you consider the new topics to be &lsquo;better&rsquo; than the ones that you got from the 1-pass model in Problem&nbsp;5?"
   ]
  },
  {
   "cell_type": "markdown",
   "metadata": {},
   "source": [
    "20 or 30 passes seems reasonable. In the retrained model we can see the topics slightly better, like we can recognize some clusters are about wars and nuclear weapons, some about education, some about family and healthcare etc."
   ]
  },
  {
   "cell_type": "markdown",
   "metadata": {},
   "source": [
    "*TODO: Insert your discussion of these questions here*"
   ]
  },
  {
   "cell_type": "markdown",
   "metadata": {},
   "source": [
    "<div class=\"alert alert-info\">\n",
    "    Please read the section ‘General information’ on the ‘Labs’ page of the course website before submitting this notebook!\n",
    "</div>"
   ]
  }
 ],
 "metadata": {
  "kernelspec": {
   "display_name": "Python 3",
   "language": "python",
   "name": "python3"
  },
  "language_info": {
   "codemirror_mode": {
    "name": "ipython",
    "version": 3
   },
   "file_extension": ".py",
   "mimetype": "text/x-python",
   "name": "python",
   "nbconvert_exporter": "python",
   "pygments_lexer": "ipython3",
   "version": "3.8.5"
  }
 },
 "nbformat": 4,
 "nbformat_minor": 2
}
